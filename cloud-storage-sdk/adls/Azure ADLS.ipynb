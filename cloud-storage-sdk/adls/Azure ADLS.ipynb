{
 "cells": [
  {
   "cell_type": "code",
   "execution_count": null,
   "metadata": {},
   "outputs": [],
   "source": [
    "import os\n",
    "\n",
    "from azure.identity import ClientSecretCredential\n",
    "from azure.storage.blob import BlobServiceClient\n",
    "\n",
    "account_name = os.getenv(\"AZURE_STORAGE_ACCOUNT_NAME\") or \"\"\n",
    "client = os.getenv(\"AZURE_CLIENT_ID\") or \"\"\n",
    "tenant = os.getenv(\"AZURE_TENANT_ID\") or \"\"\n",
    "secret = os.getenv(\"AZURE_CLIENT_SECRET\") or \"\"\n",
    "\n",
    "\n",
    "blob_service_client = BlobServiceClient(\n",
    "    account_url=f\"https://{account_name}.blob.core.windows.net\",\n",
    "    credential=ClientSecretCredential(tenant_id=tenant, client_id=client, client_secret=secret),\n",
    ")"
   ]
  },
  {
   "cell_type": "code",
   "execution_count": null,
   "metadata": {},
   "outputs": [],
   "source": [
    "list(blob_service_client.list_containers())"
   ]
  },
  {
   "cell_type": "markdown",
   "metadata": {},
   "source": [
    "Download all blobs from a folder\n"
   ]
  },
  {
   "cell_type": "code",
   "execution_count": null,
   "metadata": {},
   "outputs": [],
   "source": [
    "container_client = blob_service_client.get_container_client(container=\"temp\")\n",
    "blobs = container_client.list_blob_names(name_starts_with=\"1480550734054b5ab65596563efa680c\")\n",
    "\n",
    "for a in blobs:\n",
    "    try:\n",
    "        [container, blob] = a.split(\"/\")\n",
    "    except ValueError:\n",
    "        continue\n",
    "\n",
    "    stream = container_client.download_blob(a)\n",
    "    with open(file=f\"data/{blob}\", mode=\"wb\") as f:\n",
    "        for chunk in stream.chunks():\n",
    "            f.write(chunk)"
   ]
  }
 ],
 "metadata": {
  "kernelspec": {
   "display_name": ".venv",
   "language": "python",
   "name": "python3"
  },
  "language_info": {
   "codemirror_mode": {
    "name": "ipython",
    "version": 3
   },
   "file_extension": ".py",
   "mimetype": "text/x-python",
   "name": "python",
   "nbconvert_exporter": "python",
   "pygments_lexer": "ipython3",
   "version": "3.11.6"
  }
 },
 "nbformat": 4,
 "nbformat_minor": 2
}
