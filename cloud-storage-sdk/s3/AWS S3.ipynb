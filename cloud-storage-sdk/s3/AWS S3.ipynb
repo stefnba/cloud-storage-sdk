{
 "cells": [
  {
   "cell_type": "markdown",
   "metadata": {},
   "source": [
    "# AWS S3\n"
   ]
  },
  {
   "cell_type": "code",
   "execution_count": null,
   "metadata": {},
   "outputs": [],
   "source": [
    "import os\n",
    "\n",
    "import boto3\n",
    "\n",
    "AWS_REGION = os.getenv(\"AWS_REGION\") or \"\"\n",
    "AWS_ACCESS_KEY_ID = os.getenv(\"AWS_ACCESS_KEY_ID\") or \"\"\n",
    "AWS_SECRET_ACCESS_KEY = os.getenv(\"AWS_SECRET_ACCESS_KEY\") or \"\"\n",
    "\n",
    "\n",
    "s3 = boto3.resource(\n",
    "    service_name=\"s3\",\n",
    "    region_name=AWS_REGION,\n",
    "    aws_access_key_id=AWS_ACCESS_KEY_ID,\n",
    "    aws_secret_access_key=AWS_SECRET_ACCESS_KEY,\n",
    ")"
   ]
  },
  {
   "cell_type": "markdown",
   "metadata": {},
   "source": [
    "### List Buckets\n"
   ]
  },
  {
   "cell_type": "code",
   "execution_count": null,
   "metadata": {},
   "outputs": [],
   "source": [
    "for bucket in s3.buckets.all():\n",
    "    print(bucket.name)"
   ]
  },
  {
   "cell_type": "markdown",
   "metadata": {},
   "source": [
    "### List Objects in Bucket\n"
   ]
  },
  {
   "cell_type": "code",
   "execution_count": null,
   "metadata": {},
   "outputs": [],
   "source": [
    "for obj in s3.Bucket(\"cloud-sdk\").objects.all():\n",
    "    print(obj)"
   ]
  },
  {
   "cell_type": "markdown",
   "metadata": {},
   "source": [
    "### Read Object\n"
   ]
  },
  {
   "cell_type": "code",
   "execution_count": null,
   "metadata": {},
   "outputs": [],
   "source": [
    "s3.Bucket(\"cloud-sdk\").Object(\"data/XETRA_LIST_OF_SYMBOLS-2.csv\").get().get(\"Body\").read().decode(\"utf-8\")"
   ]
  },
  {
   "cell_type": "markdown",
   "metadata": {},
   "source": [
    "### Read Data using Polars\n"
   ]
  },
  {
   "cell_type": "code",
   "execution_count": null,
   "metadata": {},
   "outputs": [],
   "source": [
    "import polars as pl\n",
    "\n",
    "storage_options = {\n",
    "    \"aws_access_key_id\": AWS_ACCESS_KEY_ID,\n",
    "    \"aws_secret_access_key\": AWS_SECRET_ACCESS_KEY,\n",
    "    \"aws_region\": AWS_REGION,\n",
    "}\n",
    "\n",
    "df = pl.read_parquet(\"s3://cloud-sdk/XETRA.parquet\", storage_options=storage_options)\n",
    "df"
   ]
  },
  {
   "cell_type": "code",
   "execution_count": null,
   "metadata": {},
   "outputs": [],
   "source": [
    "import duckdb\n",
    "\n",
    "duck = duckdb.connect()\n",
    "duck.execute(f\"SET s3_access_key_id='{AWS_ACCESS_KEY_ID}'\")\n",
    "duck.execute(f\"SET s3_secret_access_key='{AWS_SECRET_ACCESS_KEY}'\")\n",
    "duck.execute(f\"SET s3_region='{AWS_REGION}'\")\n",
    "\n",
    "duck.read_parquet(\"s3://cloud-sdk/XETRA.parquet\")"
   ]
  }
 ],
 "metadata": {
  "kernelspec": {
   "display_name": ".venv",
   "language": "python",
   "name": "python3"
  },
  "language_info": {
   "codemirror_mode": {
    "name": "ipython",
    "version": 3
   },
   "file_extension": ".py",
   "mimetype": "text/x-python",
   "name": "python",
   "nbconvert_exporter": "python",
   "pygments_lexer": "ipython3",
   "version": "3.11.6"
  }
 },
 "nbformat": 4,
 "nbformat_minor": 2
}
