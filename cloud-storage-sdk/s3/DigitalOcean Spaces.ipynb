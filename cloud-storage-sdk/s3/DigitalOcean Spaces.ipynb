{
 "cells": [
  {
   "cell_type": "markdown",
   "metadata": {},
   "source": [
    "DigitalOcean Spaces is a S3 compatible Object Storage.\n"
   ]
  },
  {
   "cell_type": "code",
   "execution_count": null,
   "metadata": {},
   "outputs": [],
   "source": [
    "import os\n",
    "\n",
    "import boto3\n",
    "\n",
    "DO_ACCESS_KEY_ID = os.getenv(\"DO_ACCESS_KEY_ID\") or \"\"\n",
    "DO_SECRET_ACCESS_KEY = os.getenv(\"DO_SECRET_ACCESS_KEY\") or \"\"\n",
    "DO_REGION = \"fra1\"\n",
    "\n",
    "spaces = boto3.resource(\n",
    "    service_name=\"s3\",\n",
    "    endpoint_url=f\"https://{DO_REGION}.digitaloceanspaces.com\",\n",
    "    region_name=DO_REGION,\n",
    "    aws_access_key_id=DO_ACCESS_KEY_ID,\n",
    "    aws_secret_access_key=DO_SECRET_ACCESS_KEY,\n",
    ")"
   ]
  },
  {
   "cell_type": "markdown",
   "metadata": {},
   "source": [
    "### List Buckets\n",
    "\n",
    "At DigitalOcean, every Spaces product is one bucket, i.e. to create a new bucket, you'll have to buy another Spaces.\n"
   ]
  },
  {
   "cell_type": "code",
   "execution_count": null,
   "metadata": {},
   "outputs": [],
   "source": [
    "import duckdb\n",
    "\n",
    "duck = duckdb.connect()\n",
    "duck.execute(f\"SET s3_access_key_id='{DO_ACCESS_KEY_ID}'\")\n",
    "duck.execute(f\"SET s3_secret_access_key='{DO_SECRET_ACCESS_KEY}'\")\n",
    "duck.execute(f\"SET s3_region='{DO_REGION}'\")\n",
    "duck.execute(\"SET s3_endpoint='fra1.digitaloceanspaces.com'\")\n",
    "\n",
    "duck.read_parquet(\"s3://uniquestocks/datalake/raw/part-0.parquet\")"
   ]
  },
  {
   "cell_type": "code",
   "execution_count": null,
   "metadata": {},
   "outputs": [],
   "source": [
    "import polars as pl\n",
    "\n",
    "storage_options = {\n",
    "    \"aws_endpoint_url\": f\"https://{DO_REGION}.digitaloceanspaces.com\",\n",
    "    \"aws_access_key_id\": DO_ACCESS_KEY_ID,\n",
    "    \"aws_secret_access_key\": DO_SECRET_ACCESS_KEY,\n",
    "}\n",
    "\n",
    "df = pl.scan_delta(\n",
    "    \"s3://uniquestocks/datalake/raw/test.csv\",\n",
    "    storage_options=storage_options,\n",
    ")\n",
    "df.collect()"
   ]
  },
  {
   "cell_type": "code",
   "execution_count": null,
   "metadata": {},
   "outputs": [],
   "source": [
    "import polars as pl\n",
    "\n",
    "storage_options = {\n",
    "    \"aws_endpoint_url\": f\"https://uniquestocks.{DO_REGION}.digitaloceanspaces.com\",\n",
    "    \"aws_access_key_id\": DO_ACCESS_KEY_ID,\n",
    "    \"aws_secret_access_key\": DO_SECRET_ACCESS_KEY,\n",
    "    \"aws_virtual_hosted_style_request\": \"true\",\n",
    "    # \"aws_bucket_name\": \"uniquestocks\",\n",
    "}\n",
    "\n",
    "\n",
    "df = pl.scan_pyarrow_dataset(\n",
    "    \"s3://raw/e/\",\n",
    "    storage_options=storage_options,\n",
    ")\n",
    "df"
   ]
  },
  {
   "cell_type": "markdown",
   "metadata": {},
   "source": [
    "### PyArrow dataset\n"
   ]
  },
  {
   "cell_type": "code",
   "execution_count": null,
   "metadata": {},
   "outputs": [],
   "source": [
    "import pyarrow.dataset as ds\n",
    "from pyarrow import fs\n",
    "\n",
    "filesystem = fs.S3FileSystem(\n",
    "    access_key=DO_ACCESS_KEY_ID,\n",
    "    secret_key=DO_SECRET_ACCESS_KEY,\n",
    "    endpoint_override=f\"{DO_REGION}.digitaloceanspaces.com\",\n",
    ")\n",
    "\n",
    "dataset = ds.dataset(\"uniquestocks/datalake/raw/\", format=\"parquet\", filesystem=filesystem)\n",
    "dataset.head(10)"
   ]
  },
  {
   "cell_type": "code",
   "execution_count": null,
   "metadata": {},
   "outputs": [],
   "source": [
    "pl.scan_pyarrow_dataset(dataset).collect()"
   ]
  },
  {
   "cell_type": "code",
   "execution_count": null,
   "metadata": {},
   "outputs": [],
   "source": [
    "for bucket in spaces.buckets.all():\n",
    "    print(bucket.name)"
   ]
  },
  {
   "cell_type": "markdown",
   "metadata": {},
   "source": [
    "### List Objects in Bucket\n"
   ]
  },
  {
   "cell_type": "code",
   "execution_count": null,
   "metadata": {},
   "outputs": [],
   "source": [
    "for obj in spaces.Bucket(\"uniquestocks\").objects.all():\n",
    "    print(obj.key)"
   ]
  }
 ],
 "metadata": {
  "kernelspec": {
   "display_name": ".venv",
   "language": "python",
   "name": "python3"
  },
  "language_info": {
   "codemirror_mode": {
    "name": "ipython",
    "version": 3
   },
   "file_extension": ".py",
   "mimetype": "text/x-python",
   "name": "python",
   "nbconvert_exporter": "python",
   "pygments_lexer": "ipython3",
   "version": "3.11.6"
  }
 },
 "nbformat": 4,
 "nbformat_minor": 2
}
